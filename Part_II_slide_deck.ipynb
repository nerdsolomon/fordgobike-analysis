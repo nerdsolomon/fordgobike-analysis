{
 "cells": [
  {
   "cell_type": "markdown",
   "metadata": {
    "slideshow": {
     "slide_type": "slide"
    }
   },
   "source": [
    "# Part II - Effects Of Bike Share On User's Race Duration And Distance travel\n",
    "## by Solomon Muoghara "
   ]
  },
  {
   "cell_type": "markdown",
   "metadata": {
    "slideshow": {
     "slide_type": "slide"
    }
   },
   "source": [
    "\n",
    "## Investigation Overview\n",
    "\n",
    "In this in investigation, i want to look at the effect bike share in the race of the particular data set have on both the distance traveled and the duration of the travel by different user types.\n",
    "\n",
    "\n",
    "## Dataset Overview\n",
    "\n",
    "This data set includes information about individual rides made in a bike-sharing system covering the greater San Francisco Bay area.\n",
    "There are 183412 listed bike rides and 16 features of which 9 variables are numeric; integers and floats, and 7 are Objects/Strings values.\n",
    "Of which i expect the following variables; duration_sec, start_station_latitude, start_station_longitude, end_station_latitude, end_station_longitude, user_type, share_bike_for_all_trip will be instrumental for my analysis findings."
   ]
  },
  {
   "cell_type": "code",
   "execution_count": null,
   "metadata": {
    "slideshow": {
     "slide_type": "skip"
    }
   },
   "outputs": [],
   "source": [
    "# import all packages and set plots to be embedded inline\n",
    "import numpy as np\n",
    "import pandas as pd\n",
    "import matplotlib.pyplot as plt\n",
    "import seaborn as sb\n",
    "\n",
    "%matplotlib inline\n",
    "\n",
    "# suppress warnings from final output\n",
    "import warnings\n",
    "warnings.simplefilter(\"ignore\")"
   ]
  },
  {
   "cell_type": "code",
   "execution_count": 2,
   "metadata": {
    "slideshow": {
     "slide_type": "skip"
    }
   },
   "outputs": [],
   "source": [
    "# load in the dataset into a pandas dataframe\n",
    "df = pd.read_csv('201902-fordgobike-tripdata.csv')"
   ]
  },
  {
   "cell_type": "code",
   "execution_count": 3,
   "metadata": {
    "slideshow": {
     "slide_type": "skip"
    }
   },
   "outputs": [],
   "source": [
    "# create new column to store the convertion duration_sec to minutes and delete the duration_sec column \n",
    "df['duration_min'] = df.duration_sec/60\n",
    "df.drop(columns = 'duration_sec', inplace=True)"
   ]
  },
  {
   "cell_type": "code",
   "execution_count": 4,
   "metadata": {
    "slideshow": {
     "slide_type": "skip"
    }
   },
   "outputs": [],
   "source": [
    "#creating a new column Distance to calculate the distance between start and end points \n",
    "def haversine(lat1, lon1, lat2, lon2):\n",
    "    \"\"\"The function calculates the distance between two points using the longitude and latitude of the \n",
    "    start and end points denoted as start points: lon1 and lat1, end points: lon2 and lat2. \n",
    "    \n",
    "    The function performs the standard conversion to meters format which is under the variable R and \n",
    "    other haversine latitude and longitude calculations using the python math module.\n",
    "    \n",
    "    The function returns the distance between the two points in meters.\n",
    "    \"\"\"\n",
    "    import math\n",
    "    R = 6373.0 * 1000\n",
    "    dlon = lon2 - lon1\n",
    "    dlat = lat2 - lat1\n",
    "    a = math.sin(dlat / 2)**2 + math.cos(lat1) * math.cos(lat2) * math.sin(dlon / 2)**2\n",
    "    return R *2 * math.atan2(math.sqrt(a), math.sqrt(1 - a))\n",
    "\n",
    "# the function haversine is being applied to the dataframe the return being stored in a new column df.race_distance \n",
    "df['race_distance'] = df.apply(lambda x: haversine(x['start_station_latitude'], x['start_station_longitude'], x['end_station_latitude'], x['end_station_longitude']), axis=1)\n"
   ]
  },
  {
   "cell_type": "markdown",
   "metadata": {
    "slideshow": {
     "slide_type": "slide"
    }
   },
   "source": [
    "## Distribution of Time Duration\n",
    "\n",
    "The plot is multimodal and you can notice the highest scale between the 200 and 300 minutes, with the very low between 1000 and 1800 minutes. Which is to say that most rides spent around 250 to 300 minutes."
   ]
  },
  {
   "cell_type": "code",
   "execution_count": 5,
   "metadata": {
    "slideshow": {
     "slide_type": "subslide"
    }
   },
   "outputs": [
    {
     "data": {
      "image/png": "[encoded data removed]",
      "text/plain": [
       "<Figure size 576x360 with 1 Axes>"
      ]
     },
     "metadata": {
      "needs_background": "light"
     },
     "output_type": "display_data"
    }
   ],
   "source": [
    "# plotting the duration_min using a log transform \n",
    "log_binsize = 0.025\n",
    "bins = 10 ** np.arange(2.4, np.log10(df['duration_min'].max())+log_binsize, log_binsize)\n",
    "\n",
    "plt.figure(figsize=[8, 5])\n",
    "plt.hist(data = df, x = 'duration_min', bins = bins)\n",
    "plt.title('Race Duration Distribution In Minutes')\n",
    "plt.xscale('log')\n",
    "plt.xlim([250, 2e3])\n",
    "plt.xticks([2e2,3e2,4e2,6e2,8e2,1e3, 2e3], ['2h','3h','4h','6h','8h','1k', '2k'])\n",
    "plt.xlabel('Duration in Minutes')\n",
    "plt.show()"
   ]
  },
  {
   "cell_type": "markdown",
   "metadata": {
    "collapsed": true,
    "slideshow": {
     "slide_type": "slide"
    }
   },
   "source": [
    "## Distribution of Race Distance \n",
    "\n",
    "The Distribution appears multimodal with less count at the start and the end. The peek of the chart appears around the middle, showing the densely populated plot from the 40k point to the 200k point, of which the peek of the chart is approximately 100k to 120k meters. This plot shows that more racers travel around 40,000 to 200,000 meters.\n"
   ]
  },
  {
   "cell_type": "code",
   "execution_count": 6,
   "metadata": {
    "slideshow": {
     "slide_type": "subslide"
    }
   },
   "outputs": [
    {
     "data": {
      "image/png": "[encoded data removed]",
      "text/plain": [
       "<Figure size 576x360 with 1 Axes>"
      ]
     },
     "metadata": {
      "needs_background": "light"
     },
     "output_type": "display_data"
    }
   ],
   "source": [
    "# plotting the race_distance in a log transform format \n",
    "log_binsize = 0.025\n",
    "bins = 10 ** np.arange(2.4, np.log10(df['race_distance'].max())+log_binsize, log_binsize)\n",
    "\n",
    "plt.figure(figsize=[8, 5])\n",
    "plt.hist(data = df, x = 'race_distance', bins = bins)\n",
    "plt.title('Race Distance Distribution')\n",
    "plt.xscale('log')\n",
    "plt.xlim([10000, 2e6])\n",
    "plt.xticks([8e3,1e4,2e4,4e4,8e4,2e5,4e5,6e5], \n",
    "           ['8k','10k','20k','40k','80k','200k','400k','600k'])\n",
    "plt.xlabel('Distance in Meters')\n",
    "plt.show()"
   ]
  },
  {
   "cell_type": "markdown",
   "metadata": {
    "slideshow": {
     "slide_type": "slide"
    }
   },
   "source": [
    "## User Type and Bike Share against Time Duration\n",
    "\n",
    "The visualization plots three variables against each other, bike_share..., user_type and duration_min. Here, it also shows user_type = Customer have no value under bike_share...= Yes, which means no customer shared their bike but it does have a higher value under bike_share.. = No, which means that more user_type = Customer who didn't share their bike for all trip spend more time on the road getting to their end points than both subscribers who share and didn't share.\n"
   ]
  },
  {
   "cell_type": "code",
   "execution_count": 7,
   "metadata": {
    "slideshow": {
     "slide_type": "subslide"
    }
   },
   "outputs": [
    {
     "data": {
      "image/png": "[encoded data removed]",
      "text/plain": [
       "<Figure size 432x288 with 1 Axes>"
      ]
     },
     "metadata": {
      "needs_background": "light"
     },
     "output_type": "display_data"
    }
   ],
   "source": [
    "sb.barplot(data=df, hue='user_type', y='duration_min',x='bike_share_for_all_trip',)\n",
    "plt.title('Users Race Duration Distribution & Bike Share');\n"
   ]
  },
  {
   "cell_type": "markdown",
   "metadata": {
    "slideshow": {
     "slide_type": "slide"
    }
   },
   "source": [
    "## User Type and Bike Share against Race Distance \n",
    "\n",
    "The visualization plots three variables against each other, bike_share..., race_distance and user_type. Again, no user_type = customer value on bike_share... = Yes and also customer who didn't share their bike travelling longer distance than both subscribers who share their bike and those who didn't."
   ]
  },
  {
   "cell_type": "code",
   "execution_count": 8,
   "metadata": {
    "slideshow": {
     "slide_type": "subslide"
    }
   },
   "outputs": [
    {
     "data": {
      "image/png": "[encoded data removed]",
      "text/plain": [
       "<Figure size 432x288 with 1 Axes>"
      ]
     },
     "metadata": {
      "needs_background": "light"
     },
     "output_type": "display_data"
    }
   ],
   "source": [
    "sb.barplot(data=df, x='bike_share_for_all_trip',y='race_distance',hue='user_type',)\n",
    "plt.title('Users Race Distance Distribution & Bike Share');\n"
   ]
  },
  {
   "cell_type": "code",
   "execution_count": null,
   "metadata": {},
   "outputs": [],
   "source": [
    "!jupyter nbconvert Part_II_slide_deck.ipynb --to slides --post serve --no-input --no-prompt"
   ]
  }
 ],
 "metadata": {
  "celltoolbar": "Slideshow",
  "kernelspec": {
   "display_name": "Python 3 (ipykernel)",
   "language": "python",
   "name": "python3"
  },
  "language_info": {
   "codemirror_mode": {
    "name": "ipython",
    "version": 3
   },
   "file_extension": ".py",
   "mimetype": "text/x-python",
   "name": "python",
   "nbconvert_exporter": "python",
   "pygments_lexer": "ipython3",
   "version": "3.10.0"
  }
 },
 "nbformat": 4,
 "nbformat_minor": 2
}
